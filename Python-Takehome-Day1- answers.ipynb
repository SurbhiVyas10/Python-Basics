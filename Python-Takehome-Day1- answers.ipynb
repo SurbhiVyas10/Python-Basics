{
 "cells": [
  {
   "cell_type": "raw",
   "metadata": {
    "colab_type": "text",
    "id": "21KtRpyGIckL"
   },
   "source": [
    "1. Take two inputs from user and check whether they are equal or not."
   ]
  },
  {
   "cell_type": "code",
   "execution_count": 1,
   "metadata": {
    "colab": {},
    "colab_type": "code",
    "id": "VAIeB3vmIckN",
    "scrolled": true
   },
   "outputs": [
    {
     "name": "stdout",
     "output_type": "stream",
     "text": [
      "Enter your input no.1 herefree\n",
      "Enter your input no.2 herefree\n"
     ]
    },
    {
     "data": {
      "text/plain": [
       "True"
      ]
     },
     "execution_count": 1,
     "metadata": {},
     "output_type": "execute_result"
    }
   ],
   "source": [
    "a=input('Enter your input no.1 here')\n",
    "b=input('Enter your input no.2 here')\n",
    "a==b"
   ]
  },
  {
   "cell_type": "raw",
   "metadata": {
    "colab_type": "text",
    "id": "jMBBv9RbIckS"
   },
   "source": [
    "2. Take a single digit integer input from the user for example (3), print an output \n",
    "\n",
    "---\n",
    "\n",
    "(3+(33))\n"
   ]
  },
  {
   "cell_type": "code",
   "execution_count": 6,
   "metadata": {
    "colab": {},
    "colab_type": "code",
    "id": "9iuvz30RIckT",
    "scrolled": true
   },
   "outputs": [
    {
     "name": "stdout",
     "output_type": "stream",
     "text": [
      "Input an integer : 3\n",
      "(3+(33))\n"
     ]
    }
   ],
   "source": [
    "c = int(input(\"Input an integer : \"))\n",
    "print(f'({c}+({c}{c}))')\n"
   ]
  },
  {
   "cell_type": "code",
   "execution_count": 1,
   "metadata": {},
   "outputs": [
    {
     "name": "stdout",
     "output_type": "stream",
     "text": [
      "36\n"
     ]
    }
   ],
   "source": [
    "print(3+33)"
   ]
  },
  {
   "cell_type": "raw",
   "metadata": {
    "colab_type": "text",
    "id": "-6Vyt6WrIckX"
   },
   "source": [
    "3.  Write Python code to get a runtime variable as float and display as integer\n",
    "                   input: float number\n",
    "                   output: int number"
   ]
  },
  {
   "cell_type": "code",
   "execution_count": 2,
   "metadata": {
    "colab": {},
    "colab_type": "code",
    "id": "HgZbKiQEIckY",
    "scrolled": false
   },
   "outputs": [
    {
     "name": "stdout",
     "output_type": "stream",
     "text": [
      "enter no. here1230.555\n",
      "1230\n"
     ]
    }
   ],
   "source": [
    "abc=float(input('enter no. here'))\n",
    "de=int(abc)\n",
    "print(de)"
   ]
  },
  {
   "cell_type": "raw",
   "metadata": {
    "colab_type": "text",
    "id": "tVLNiT5_Ickb"
   },
   "source": [
    "4. Create a single string from a LIST of characters.\n",
    " For Example :\n",
    " charList = ['p','y','t','h','o','n',' ','p','r','o','g','r','a','m','m','i','n','g']\n",
    " Output: python programming"
   ]
  },
  {
   "cell_type": "code",
   "execution_count": 8,
   "metadata": {
    "colab": {},
    "colab_type": "code",
    "id": "0q_IJRvuIckc"
   },
   "outputs": [
    {
     "name": "stdout",
     "output_type": "stream",
     "text": [
      "python programming\n"
     ]
    }
   ],
   "source": [
    "list1=['p','y','t','h','o','n',' ','p','r','o','g','r','a','m','m','i','n','g']\n",
    "\n",
    "output= \"\".join(list1)\n",
    "print(output)"
   ]
  },
  {
   "cell_type": "raw",
   "metadata": {
    "colab_type": "text",
    "id": "U8HCfXYcIckg"
   },
   "source": [
    "5. Python Program to Convert Celsius  to Fahrenheit\n",
    "  celsius * 1.8 = fahrenheit - 32"
   ]
  },
  {
   "cell_type": "code",
   "execution_count": 7,
   "metadata": {
    "colab": {},
    "colab_type": "code",
    "id": "bS2q1gvdIckg"
   },
   "outputs": [
    {
     "name": "stdout",
     "output_type": "stream",
     "text": [
      "Enter temprature in Celsius32\n",
      "89.6\n"
     ]
    }
   ],
   "source": [
    "temp=float(input('Enter temprature in Celsius'))\n",
    "temp2=(temp*1.8)+32\n",
    "print(temp2)"
   ]
  },
  {
   "cell_type": "raw",
   "metadata": {
    "colab_type": "text",
    "id": "m4hjdLrnIckm"
   },
   "source": [
    "6. Write a program which reverse the given input number."
   ]
  },
  {
   "cell_type": "code",
   "execution_count": 8,
   "metadata": {
    "colab": {},
    "colab_type": "code",
    "id": "7-kf_-I5Ickn"
   },
   "outputs": [
    {
     "name": "stdout",
     "output_type": "stream",
     "text": [
      "enter no.235\n",
      "532\n"
     ]
    }
   ],
   "source": [
    "num=int(input('enter no.'))\n",
    "rever=0\n",
    "while num>0:\n",
    "    rem=num%10\n",
    "    rever=rever*10+rem\n",
    "    num=num//10\n",
    "print(rever)"
   ]
  },
  {
   "cell_type": "raw",
   "metadata": {
    "colab_type": "text",
    "id": "N_056yUoIckv"
   },
   "source": [
    "7. Check if the given runtime variable nm = \"madam\" is Palindrome without using loop, output can be boolean."
   ]
  },
  {
   "cell_type": "code",
   "execution_count": 2,
   "metadata": {
    "colab": {},
    "colab_type": "code",
    "id": "YPY1RYlIIckw"
   },
   "outputs": [
    {
     "data": {
      "text/plain": [
       "True"
      ]
     },
     "execution_count": 2,
     "metadata": {},
     "output_type": "execute_result"
    }
   ],
   "source": [
    "nm=\"madam\"\n",
    "nm2=nm[::-1]\n",
    "nm2==nm\n",
    "    "
   ]
  },
  {
   "cell_type": "raw",
   "metadata": {
    "colab_type": "text",
    "id": "CujCTN1QIck4"
   },
   "source": [
    "8.Write a Python code for the below question:\n",
    "For a given number of days, find how many weeks and balance how many days are left \n",
    "eg. input = 15 days, \n",
    "Output: # weeks = 2, # days left = 1"
   ]
  },
  {
   "cell_type": "code",
   "execution_count": 3,
   "metadata": {
    "colab": {},
    "colab_type": "code",
    "id": "HX4JbQwwIck4"
   },
   "outputs": [
    {
     "name": "stdout",
     "output_type": "stream",
     "text": [
      "Enter no of days here23\n",
      "no of weeks is 3 and days left 2\n"
     ]
    }
   ],
   "source": [
    "days=int(input('Enter no of days here'))\n",
    "weeks=days//7\n",
    "left=days%7\n",
    "print('no of weeks is',weeks,'and days left',left)"
   ]
  },
  {
   "cell_type": "raw",
   "metadata": {
    "colab_type": "text",
    "id": "H2p6mCxIIck8"
   },
   "source": [
    "9. Check if the given number is even  without using loops. Output can be in boolean"
   ]
  },
  {
   "cell_type": "code",
   "execution_count": 4,
   "metadata": {
    "colab": {},
    "colab_type": "code",
    "id": "jymOPdXpIck8"
   },
   "outputs": [
    {
     "name": "stdout",
     "output_type": "stream",
     "text": [
      "enter no.20\n"
     ]
    },
    {
     "data": {
      "text/plain": [
       "True"
      ]
     },
     "execution_count": 4,
     "metadata": {},
     "output_type": "execute_result"
    }
   ],
   "source": [
    "number=int(input('enter no.'))\n",
    "number%2==0"
   ]
  }
 ],
 "metadata": {
  "colab": {
   "collapsed_sections": [],
   "name": "Python-Takehome-Day1-Questions.ipynb",
   "provenance": []
  },
  "kernelspec": {
   "display_name": "Python 3",
   "language": "python",
   "name": "python3"
  },
  "language_info": {
   "codemirror_mode": {
    "name": "ipython",
    "version": 3
   },
   "file_extension": ".py",
   "mimetype": "text/x-python",
   "name": "python",
   "nbconvert_exporter": "python",
   "pygments_lexer": "ipython3",
   "version": "3.7.6"
  }
 },
 "nbformat": 4,
 "nbformat_minor": 1
}
